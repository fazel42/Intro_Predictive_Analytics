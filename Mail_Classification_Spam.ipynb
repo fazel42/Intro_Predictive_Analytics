{
 "cells": [
  {
   "cell_type": "markdown",
   "metadata": {},
   "source": [
    "# Approach: The goal of this exercise is to predict whether an email is spam or not. Given the dataset, the following is the approach to the problem - \n",
    "1. Exploratory Data Analysis - Data Cleaning, treatment and transformation\n",
    "2. Determination of Evaluation Metric to be Used\n",
    "3. Build Models using the following algorithms - \n",
    "   a. Logistic Regression \n",
    "   b. K-NN\n",
    "   c. Regression Tree\n",
    "   d. Neural Network \n",
    "   e. Random Forest\n",
    "4. Finalize the model to be used based on the evaluation metric on the test data set   \n",
    "\n",
    "\n",
    "The data set has been downloaded from UCI dataset  http://archive.ics.uci.edu/ml/datasets/Spambase\n"
   ]
  },
  {
   "cell_type": "markdown",
   "metadata": {},
   "source": [
    "##### Algroithms considered - \n",
    "###### a. Decision Tree: Decision tree automatically handles outliers and selects the most relevant features in its algorithm. So no  need to manually do feature selection \n",
    "###### b. Logistic Regression: Look at the correlation matrix first. If high correlation then remove those variables and then use the rest for L1 which does the feature selection automatically\n",
    "###### c. KNN - two variants - use the best logistic regression's output which gives the coeff and drop the variables and do one iteration without dropping anythin \n",
    "###### d. Neural Network - the same as above \n",
    "###### e. Random Forest - use max_features "
   ]
  },
  {
   "cell_type": "code",
   "execution_count": 183,
   "metadata": {},
   "outputs": [],
   "source": [
    "from  sklearn.model_selection import train_test_split\n",
    "import matplotlib.pyplot as plt\n",
    "from sklearn.model_selection import train_test_split\n",
    "from sklearn.metrics import roc_auc_score, accuracy_score, make_scorer\n",
    "from sklearn import neighbors\n",
    "from sklearn.preprocessing import StandardScaler\n",
    "from sklearn.neighbors import KNeighborsClassifier\n",
    "from sklearn.model_selection import GridSearchCV, cross_val_score, KFold\n",
    "from sklearn.tree import DecisionTreeClassifier\n",
    "from sklearn.linear_model import LogisticRegression\n",
    "from keras.models import Sequential\n",
    "from keras.layers import Dense\n",
    "from keras.wrappers.scikit_learn import KerasRegressor\n",
    "from sklearn.ensemble import RandomForestRegressor\n",
    "import warnings; warnings.simplefilter('ignore')\n",
    "## Plotting Learning Curves\n",
    "from sklearn.model_selection import learning_curve\n",
    "\n",
    "def plot_learning_curve(estimator, title, X, y, ylim=None, cv=None,scoring_metric = None, scoring_metric_label = \"score\",\n",
    "                        n_jobs=1, train_sizes=np.linspace(.1, 1.0, 5)):\n",
    "    \"\"\"\n",
    "    Generate a simple plot of the test and traning learning curve.\n",
    "\n",
    "    Parameters\n",
    "    ----------\n",
    "    estimator : object type that implements the \"fit\" and \"predict\" methods\n",
    "        An object of that type which is cloned for each validation.\n",
    "\n",
    "    title : string\n",
    "        Title for the chart.\n",
    "\n",
    "    X : array-like, shape (n_samples, n_features)\n",
    "        Training vector, where n_samples is the number of samples and\n",
    "        n_features is the number of features.\n",
    "\n",
    "    y : array-like, shape (n_samples) or (n_samples, n_features), optional\n",
    "        Target relative to X for classification or regression;\n",
    "        None for unsupervised learning.\n",
    "\n",
    "    ylim : tuple, shape (ymin, ymax), optional\n",
    "        Defines minimum and maximum yvalues plotted.\n",
    "\n",
    "    cv : integer, cross-validation generator, optional\n",
    "        If an integer is passed, it is the number of folds (defaults to 3).\n",
    "        Specific cross-validation objects can be passed, see\n",
    "        sklearn.cross_validation module for the list of possible objects\n",
    "\n",
    "    n_jobs : integer, optional\n",
    "        Number of jobs to run in parallel (default 1).\n",
    "    \"\"\"\n",
    "    plt.figure()\n",
    "    plt.title(title)\n",
    "    if ylim is not None:\n",
    "        plt.ylim(*ylim)\n",
    "    plt.xlabel(\"Training examples\")\n",
    "    plt.ylabel(scoring_metric_label)\n",
    "    train_sizes, train_scores, test_scores = learning_curve(\n",
    "        estimator, X, y, cv=cv, n_jobs=n_jobs, train_sizes=train_sizes, scoring = scoring_metric)\n",
    "    train_scores_mean = np.mean(train_scores, axis=1)\n",
    "    train_scores_std = np.std(train_scores, axis=1)\n",
    "    test_scores_mean = np.mean(test_scores, axis=1)\n",
    "    test_scores_std = np.std(test_scores, axis=1)\n",
    "    plt.grid()\n",
    "\n",
    "    plt.fill_between(train_sizes, train_scores_mean - train_scores_std,\n",
    "                     train_scores_mean + train_scores_std, alpha=0.1,\n",
    "                     color=\"r\")\n",
    "    plt.fill_between(train_sizes, test_scores_mean - test_scores_std,\n",
    "                     test_scores_mean + test_scores_std, alpha=0.1, color=\"g\")\n",
    "    plt.plot(train_sizes, train_scores_mean, 'o-', color=\"r\",\n",
    "             label=\"Training score\")\n",
    "    plt.plot(train_sizes, test_scores_mean, 'o-', color=\"g\",\n",
    "             label=\"Cross-validation score\")\n",
    "\n",
    "    plt.legend(loc=\"best\")\n",
    "    return plt\n",
    "\n",
    "def plot_results( grid ,par_1,par_2, title, y_lab):\n",
    "    \"\"\"Select two hyperparameters from which we plot the fluctuations\"\"\"\n",
    "    index = 'param_' + par_1\n",
    "    columns = 'param_' + par_2\n",
    "\n",
    "    # prepare the results into a pandas.DataFrame\n",
    "    df = pd.DataFrame(grid.cv_results_)\n",
    "\n",
    "    # Remove the other by selecting their best values (from gscv.best_params_)\n",
    "    other = [c for c in df.columns if c[:6] == 'param_']\n",
    "    other.remove(index)\n",
    "    other.remove(columns)\n",
    "    # Create pivot tables for easy plotting\n",
    "    table_mean = df.pivot_table(index=index, columns=columns,\n",
    "                                values=['mean_test_score'])\n",
    "    table_std = df.pivot_table(index=index, columns=columns,\n",
    "                               values=['std_test_score'])\n",
    "\n",
    "    # plot the pivot tables\n",
    "    plt.figure()\n",
    "    ax = plt.gca()\n",
    "    for col_mean, col_std in zip(table_mean.columns, table_std.columns):\n",
    "        table_mean[col_mean].plot(ax=ax, yerr=table_std[col_std], marker='o',\n",
    "                                  label=col_mean)\n",
    "    plt.title(title)\n",
    "    plt.ylabel(y_lab)\n",
    "    plt.legend(title=table_mean.columns.names)\n",
    "    plt.show()\n",
    "\n"
   ]
  },
  {
   "cell_type": "code",
   "execution_count": 184,
   "metadata": {},
   "outputs": [],
   "source": [
    "import pandas as pd\n",
    "import numpy as np \n",
    "path = 'Please insert path here'\n",
    "check = pd.read_csv(path + 'spambase.names',skiprows =32, names = ['name','val1','val2'])\n",
    "colnames = check.name.str.split(':',expand = True)[0]\n",
    "colnames = colnames.append(pd.Series('spam'))\n",
    "df= pd.read_csv(path + \"spambase.data\", header = None, names = colnames)"
   ]
  },
  {
   "cell_type": "code",
   "execution_count": 64,
   "metadata": {},
   "outputs": [
    {
     "data": {
      "text/plain": [
       "(4601, 58)"
      ]
     },
     "execution_count": 64,
     "metadata": {},
     "output_type": "execute_result"
    }
   ],
   "source": [
    "df.shape"
   ]
  },
  {
   "cell_type": "code",
   "execution_count": 67,
   "metadata": {},
   "outputs": [
    {
     "data": {
      "text/plain": [
       "0    0.605955\n",
       "1    0.394045\n",
       "Name: spam, dtype: float64"
      ]
     },
     "execution_count": 67,
     "metadata": {},
     "output_type": "execute_result"
    }
   ],
   "source": [
    "df['spam'].value_counts()/df.shape[0]"
   ]
  },
  {
   "cell_type": "markdown",
   "metadata": {},
   "source": [
    "#### We can see that the basic model would give an accuracy of 60.5 %. Since the data is not hughely imbalanced, AUROC is used for evaluating the models"
   ]
  },
  {
   "cell_type": "code",
   "execution_count": 186,
   "metadata": {},
   "outputs": [],
   "source": [
    "# From the documentation, we can see that there are no missing values in the dataset. \n",
    "# The data set appears to be clean and ready for analysis"
   ]
  },
  {
   "cell_type": "code",
   "execution_count": 69,
   "metadata": {},
   "outputs": [],
   "source": [
    "df.corr()\n",
    "#df.corr().to_csv(path + 'hw3_quesn2_correlation_matrix_20191104.csv')\n"
   ]
  },
  {
   "cell_type": "markdown",
   "metadata": {},
   "source": [
    "##### We can see that there is a high correlation within the variables. 'word_freq_direct','word_freq_415','word_freq_telnet' are the variables selected to be removed from the data set as they have very high correlation with other variables and relatively less with 'Spam' variable\n",
    "\n",
    "##### Since decision tree is agnostic to the correlated variables, they have not been removed yet from the data "
   ]
  },
  {
   "cell_type": "code",
   "execution_count": 188,
   "metadata": {},
   "outputs": [],
   "source": [
    "# train Test Split\n",
    "df_y = df.iloc[:,57].values\n",
    "df_x = df.iloc[:,0:57].values\n",
    "x_train,x_test,y_train,y_test = train_test_split(df_x, df_y, test_size = 0.2, random_state = 123,stratify = df_y)\n",
    "scaler = StandardScaler()\n",
    "scaler.fit(x_train)\n",
    "x_train = scaler.transform(x_train)\n",
    "x_test = scaler.transform(x_test)"
   ]
  },
  {
   "cell_type": "code",
   "execution_count": 189,
   "metadata": {},
   "outputs": [
    {
     "data": {
      "text/plain": [
       "{'max_depth': 30, 'min_samples_leaf': 10}"
      ]
     },
     "execution_count": 189,
     "metadata": {},
     "output_type": "execute_result"
    }
   ],
   "source": [
    "# Decision Tree\n",
    "depth={\"max_depth\":[1,10,20,30,40,50],\n",
    "       \"min_samples_leaf\" : [10,20,30]}       \n",
    "\n",
    "DTC=DecisionTreeClassifier()\n",
    "\n",
    "grid_dt=GridSearchCV(DTC,param_grid=depth , cv=4, scoring= make_scorer(roc_auc_score))\n",
    "grid_dt.fit(x_train,y_train) \n",
    "dt_result =pd.DataFrame(grid_dt.cv_results_)\n",
    "grid_dt.best_params_"
   ]
  },
  {
   "cell_type": "code",
   "execution_count": 190,
   "metadata": {},
   "outputs": [
    {
     "data": {
      "image/png": "[encoded data removed]",
      "text/plain": [
       "<Figure size 432x288 with 1 Axes>"
      ]
     },
     "metadata": {},
     "output_type": "display_data"
    }
   ],
   "source": [
    "plot_results( grid_dt ,par_1 = \"max_depth\",par_2 = \"min_samples_leaf\", title = \"Tuning of Hyper Parameters for Decision Tree\", y_lab= \"AUROC\")"
   ]
  },
  {
   "cell_type": "code",
   "execution_count": 193,
   "metadata": {},
   "outputs": [],
   "source": [
    "# Logistic Regression\n",
    "# Using the correlation criteria above as discussed the variables are removed \n",
    "# before modeling as L1 penalty is sensitive to highly correlated variables\n",
    "data_log = df.copy()\n",
    "data_log.drop(columns = ['word_freq_direct','word_freq_415','word_freq_telnet'], inplace = True)\n",
    "df_y = data_log.iloc[:,54].values\n",
    "df_x = data_log.iloc[:,0:54].values\n",
    "x_train,x_test,y_train,y_test = train_test_split(df_x, df_y, test_size = 0.2, random_state = 123,stratify = df_y)\n",
    "scaler = StandardScaler()\n",
    "scaler.fit(x_train)\n",
    "x_train = scaler.transform(x_train)\n",
    "x_test = scaler.transform(x_test)"
   ]
  },
  {
   "cell_type": "code",
   "execution_count": 194,
   "metadata": {},
   "outputs": [
    {
     "data": {
      "text/plain": [
       "{'C': 1}"
      ]
     },
     "execution_count": 194,
     "metadata": {},
     "output_type": "execute_result"
    }
   ],
   "source": [
    "c_vals={\"C\":[0.001,0.01,1,10]}       \n",
    "\n",
    "log=LogisticRegression(penalty = 'l1')\n",
    "\n",
    "grid_log=GridSearchCV(log,param_grid=c_vals , cv=4, scoring= make_scorer(roc_auc_score))\n",
    "grid_log.fit(x_train,y_train) \n",
    "log_result =pd.DataFrame(grid_log.cv_results_)\n",
    "grid_log.best_params_"
   ]
  },
  {
   "cell_type": "code",
   "execution_count": 196,
   "metadata": {},
   "outputs": [
    {
     "name": "stdout",
     "output_type": "stream",
     "text": [
      "AUROC score for Logistic Regression L1 Penalty : 0.9711089388508743\n"
     ]
    }
   ],
   "source": [
    "log_final = LogisticRegression(**grid_log.best_params_)\n",
    "log_final.fit(x_train, y_train)\n",
    "y_pred_log = log_final.predict_proba(x_test)[:,1]\n",
    "print('AUROC score for Logistic Regression L1 Penalty :',roc_auc_score(y_test,y_pred_log))"
   ]
  },
  {
   "cell_type": "code",
   "execution_count": 104,
   "metadata": {},
   "outputs": [
    {
     "data": {
      "text/plain": [
       "array([[-0.08170917, -0.18772932,  0.09153032,  0.76394935,  0.29127194,\n",
       "         0.24607626,  0.94473294,  0.25822021,  0.12580926,  0.0802277 ,\n",
       "        -0.02520744, -0.13448805,  0.00621931,  0.03477124,  0.54985657,\n",
       "         0.9567425 ,  0.39880931,  0.06636639,  0.16386468,  0.57858941,\n",
       "         0.26093154,  0.31156442,  0.72823536,  0.2240301 , -2.69403767,\n",
       "        -0.85794339, -4.36729794,  0.1434975 , -0.99565202, -0.13871528,\n",
       "        -0.09380995, -0.45269133, -0.87191861,  0.42370211, -0.01558457,\n",
       "        -0.152521  , -0.2479047 , -1.66663364, -1.27956344, -0.25763236,\n",
       "        -1.08456693, -0.75293345, -1.20164487, -0.22077211, -0.71773113,\n",
       "        -0.37058825, -0.08549438, -0.13174886,  0.29971836,  1.09106517,\n",
       "         1.03884828, -0.15829411,  0.88688288,  0.44904656]])"
      ]
     },
     "execution_count": 104,
     "metadata": {},
     "output_type": "execute_result"
    }
   ],
   "source": [
    "log_final.coef_"
   ]
  },
  {
   "cell_type": "markdown",
   "metadata": {},
   "source": [
    "#### Since all the coefficients pbtained in l1 penalty are non-zero, no more variables are removed from the data set for algorithms used later"
   ]
  },
  {
   "cell_type": "code",
   "execution_count": 197,
   "metadata": {},
   "outputs": [
    {
     "data": {
      "text/plain": [
       "GridSearchCV(cv=4, error_score='raise',\n",
       "       estimator=KNeighborsClassifier(algorithm='auto', leaf_size=30, metric='minkowski',\n",
       "           metric_params=None, n_jobs=1, n_neighbors=5, p=2,\n",
       "           weights='uniform'),\n",
       "       fit_params=None, iid=True, n_jobs=1,\n",
       "       param_grid={'n_neighbors': [1, 2, 3, 4, 5, 6, 7, 8, 9, 10, 11, 12, 13, 14, 15, 16, 17, 18, 19, 20, 21, 22, 23, 24, 25, 26, 27, 28, 29, 30], 'weights': ['uniform', 'distance']},\n",
       "       pre_dispatch='2*n_jobs', refit=True, return_train_score='warn',\n",
       "       scoring=make_scorer(roc_auc_score), verbose=0)"
      ]
     },
     "execution_count": 197,
     "metadata": {},
     "output_type": "execute_result"
    }
   ],
   "source": [
    "#KNN\n",
    "k_range = list(range(1,31))\n",
    "weight_options = [\"uniform\", \"distance\"]\n",
    "\n",
    "param_grid = dict(n_neighbors = k_range, weights = weight_options)\n",
    "#print (param_grid)\n",
    "knn = KNeighborsClassifier()\n",
    "\n",
    "grid_knn = GridSearchCV(knn, param_grid, cv = 4, scoring = make_scorer(roc_auc_score))\n",
    "grid_knn.fit(x_train,y_train)"
   ]
  },
  {
   "cell_type": "code",
   "execution_count": 198,
   "metadata": {},
   "outputs": [
    {
     "data": {
      "image/png": "[encoded data removed]",
      "text/plain": [
       "<Figure size 432x288 with 1 Axes>"
      ]
     },
     "metadata": {},
     "output_type": "display_data"
    }
   ],
   "source": [
    "plot_results(grid_knn ,par_1 = \"n_neighbors\",par_2 = \"weights\", title = \"Tuning of Hyper Parameters for KNN\", y_lab= \"F Score\")\n"
   ]
  },
  {
   "cell_type": "code",
   "execution_count": 199,
   "metadata": {},
   "outputs": [
    {
     "data": {
      "text/plain": [
       "{'n_neighbors': 6, 'weights': 'distance'}"
      ]
     },
     "execution_count": 199,
     "metadata": {},
     "output_type": "execute_result"
    }
   ],
   "source": [
    "grid_knn.best_params_"
   ]
  },
  {
   "cell_type": "code",
   "execution_count": 200,
   "metadata": {},
   "outputs": [
    {
     "name": "stdout",
     "output_type": "stream",
     "text": [
      "AUROC score for Logistic Regression L1 Penalty : 0.9659448838334468\n"
     ]
    }
   ],
   "source": [
    "final_knn = KNeighborsClassifier(**grid_knn.best_params_)\n",
    "final_knn.fit(x_train, y_train)\n",
    "y_pred_knn = final_knn.predict_proba(x_test)[:,1]\n",
    "print('AUROC score for KNN :',roc_auc_score(y_test,y_pred_knn))"
   ]
  },
  {
   "cell_type": "code",
   "execution_count": 201,
   "metadata": {},
   "outputs": [],
   "source": [
    "# Neural Network \n",
    "def dnn_model():\n",
    "    model = Sequential()\n",
    "    model.add(Dense(40, input_dim = 54, kernel_initializer='normal', activation = 'relu'))\n",
    "    model.add(Dense(30, kernel_initializer= 'normal',activation = 'relu'))\n",
    "    model.add(Dense(10, kernel_initializer= 'normal',activation = 'relu'))\n",
    "    model.add(Dense(1, kernel_initializer='normal', activation='sigmoid'))\n",
    "    model.compile(loss='binary_crossentropy', optimizer='adam', metrics= ['accuracy'])\n",
    "    return model\n",
    "\n",
    "\n"
   ]
  },
  {
   "cell_type": "code",
   "execution_count": 202,
   "metadata": {},
   "outputs": [
    {
     "name": "stdout",
     "output_type": "stream",
     "text": [
      "AUROC score for DNN : 0.9774504576557363\n"
     ]
    }
   ],
   "source": [
    "dnn_mod = KerasRegressor(build_fn = dnn_model, epochs = 100, batch_size = 100, verbose = 0)\n",
    "dnn_mod.fit(x_train, y_train)\n",
    "y_pred_dn = dnn_mod.predict(x_test)\n",
    "\n",
    "print('AUROC score for DNN :',roc_auc_score(y_test,y_pred_dn))"
   ]
  },
  {
   "cell_type": "code",
   "execution_count": null,
   "metadata": {},
   "outputs": [],
   "source": [
    "# Random Forest "
   ]
  },
  {
   "cell_type": "code",
   "execution_count": 205,
   "metadata": {},
   "outputs": [
    {
     "name": "stdout",
     "output_type": "stream",
     "text": [
      "AUROC score for Random Forest : 0.9622150142678001\n"
     ]
    }
   ],
   "source": [
    "rf = RandomForestRegressor(max_depth = 10, max_features= 30)\n",
    "rf.fit(x_train, y_train)\n",
    "y_pred_rf = rf.predict(x_test)\n",
    "print('AUROC score for Random Forest :',roc_auc_score(y_test, y_pred_rf))"
   ]
  },
  {
   "cell_type": "markdown",
   "metadata": {},
   "source": [
    "### From the above we can see that the best model performance is obtained by DNN where the value is 0.977"
   ]
  }
 ],
 "metadata": {
  "kernelspec": {
   "display_name": "Python 3",
   "language": "python",
   "name": "python3"
  },
  "language_info": {
   "codemirror_mode": {
    "name": "ipython",
    "version": 3
   },
   "file_extension": ".py",
   "mimetype": "text/x-python",
   "name": "python",
   "nbconvert_exporter": "python",
   "pygments_lexer": "ipython3",
   "version": "3.6.5"
  }
 },
 "nbformat": 4,
 "nbformat_minor": 2
}
