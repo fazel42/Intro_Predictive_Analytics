{
 "cells": [
  {
   "cell_type": "markdown",
   "metadata": {},
   "source": [
    "# Overview: The target variable is distinguishing which class the car condition belongs to. \n",
    "It is a multi-class classification problem\n",
    "\n",
    "## The following is the workflow for devising a model that predicts these well based on the performance metric chosen\n",
    "\n",
    "1. Data Cleaning, Exploration and Visualization\n",
    "2. Split the data into train- test\n",
    "3. Feature Scaling and data treatment\n",
    "4. Select a performance measure \n",
    "5. Finalize the model algorithm using nested CV\n",
    "6. Fine tune the hyper parameters of the selected algorithm to finalize the model\n",
    "\n",
    "The data set has been downloaded from - http://archive.ics.uci.edu/ml/datasets/Car+Evaluation"
   ]
  },
  {
   "cell_type": "markdown",
   "metadata": {},
   "source": [
    "In this notebook,I am going to use the following predictive techniques:\n",
    "  -Naive bayes\n",
    "  -Multiclass logistic regression\n",
    "  -KNN\n",
    "  -Decision tree \n",
    "  -SVM \n",
    "After choosing the best hyperparamaters for each model, we will compare their performance based on the f_1 score "
   ]
  },
  {
   "cell_type": "code",
   "execution_count": 82,
   "metadata": {},
   "outputs": [],
   "source": [
    "import pandas as pd\n",
    "import numpy as np \n",
    "import sklearn\n",
    "from  sklearn.model_selection import train_test_split\n",
    "from sklearn.naive_bayes import GaussianNB\n",
    "import matplotlib.pyplot as plt\n",
    "from sklearn.metrics import roc_auc_score\n",
    "from sklearn import neighbors\n",
    "from sklearn.preprocessing import LabelEncoder, OneHotEncoder\n",
    "from sklearn import linear_model\n",
    "from sklearn.neighbors import KNeighborsClassifier\n",
    "from sklearn import svm\n",
    "from sklearn.model_selection import GridSearchCV, cross_val_score, KFold\n",
    "from sklearn.tree import DecisionTreeClassifier\n",
    "from sklearn.metrics import f1_score\n",
    "from sklearn.metrics import make_scorer\n",
    "from sklearn.linear_model import LogisticRegressionCV\n",
    "import warnings; warnings.simplefilter('ignore')\n",
    "## Plotting Learning Curves\n",
    "\n",
    "# A learning curve shows the validation and training score of an estimator for varying numbers of training samples. \n",
    "# It is a tool to find out how much we benefit from adding more training data and whether the estimator suffers more from a variance error or a bias error. \n",
    "# If both the validation score and the training score converge to a value that is too low with increasing size of the training set, \n",
    "# we will not benefit much from more training data. \n",
    "\n",
    "# http://scikit-learn.org/stable/auto_examples/model_selection/plot_learning_curve.html\n",
    "\n",
    "from sklearn.model_selection import learning_curve\n",
    "# Let's visualize the evolution of the weighted avergae for different combinasions of the hyperparameters\n",
    "def plot_results( grid ,par_1,par_2, title, y_lab):\n",
    "   \"\"\"Select two hyperparameters from which we plot the fluctuations\"\"\"\n",
    "   index = 'param_' + par_1\n",
    "   columns = 'param_' + par_2\n",
    "\n",
    "   # prepare the results into a pandas.DataFrame\n",
    "   df = pd.DataFrame(grid.cv_results_)\n",
    "\n",
    "   # Remove the other by selecting their best values (from gscv.best_params_)\n",
    "   other = [c for c in df.columns if c[:6] == 'param_']\n",
    "   other.remove(index)\n",
    "   other.remove(columns)\n",
    "   # Create pivot tables for easy plotting\n",
    "   table_mean = df.pivot_table(index=index, columns=columns,\n",
    "                               values=['mean_test_score'])\n",
    "   table_std = df.pivot_table(index=index, columns=columns,\n",
    "                              values=['std_test_score'])\n",
    "\n",
    "   # plot the pivot tables\n",
    "   plt.figure()\n",
    "   ax = plt.gca()\n",
    "   for col_mean, col_std in zip(table_mean.columns, table_std.columns):\n",
    "       table_mean[col_mean].plot(ax=ax, yerr=table_std[col_std], marker='o',\n",
    "                                 label=col_mean)\n",
    "   plt.title(title)\n",
    "   plt.ylabel(y_lab)\n",
    "   plt.legend(title=table_mean.columns.names)\n",
    "   plt.show()\n",
    "\n",
    "\n"
   ]
  },
  {
   "cell_type": "code",
   "execution_count": 8,
   "metadata": {},
   "outputs": [],
   "source": [
    "# read the data and naming the columns\n",
    "path = \"C:/Users/fazel/Downloads/\"\n",
    "df = pd.read_csv(path + \"car.data\", header = None)\n",
    "df.rename(columns = {0: 'buying', 1: 'maint', 2: 'doors', 3: 'persons', 4: 'lug_boot', 5:'safety', 6: 'class'}, inplace = True)"
   ]
  },
  {
   "cell_type": "markdown",
   "metadata": {},
   "source": [
    "Let's start with the naive bayes model"
   ]
  },
  {
   "cell_type": "code",
   "execution_count": 22,
   "metadata": {},
   "outputs": [],
   "source": [
    "# Given that the features are categorical, and in order to use gaussian naive bayes, \n",
    "# we will convert the features to numerical data instead of onehotencoding, as onehotenconding\n",
    "# will significantly break the independency rule\n",
    "df_naivebayes = df.replace({'buying': {'low' : 1, 'med' : 2, 'high' : 3, 'vhigh' : 4},\n",
    "            'maint' : {'low' : 1, 'med' : 2, 'high' : 3, 'vhigh' : 4},\n",
    "           'doors' : {'2': 2, '3' : 3, '5more' : 5},\n",
    "           'persons':{ '2':2,'4':4,'more':6},\n",
    "           'lug_boot' : {'small':1, 'med':2, 'big':3},\n",
    "           'safety' : {'low':1, 'med':2, 'high':3}})"
   ]
  },
  {
   "cell_type": "code",
   "execution_count": 16,
   "metadata": {},
   "outputs": [],
   "source": [
    "# let's split the data using stratified sampling\n",
    "df_y = df_naivebayes.iloc[:,6].values\n",
    "df_x = df_naivebayes.iloc[:,0:6].values\n",
    "x_train, x_test, y_train, y_test = train_test_split(df_x,df_y,test_size = 0.2, random_state = 1, stratify = df_y)"
   ]
  },
  {
   "cell_type": "code",
   "execution_count": 17,
   "metadata": {},
   "outputs": [],
   "source": [
    "gnb = GaussianNB()\n",
    "y_pred_nb = gnb.fit(x_train, y_train).predict(x_test)"
   ]
  },
  {
   "cell_type": "code",
   "execution_count": 18,
   "metadata": {},
   "outputs": [
    {
     "name": "stdout",
     "output_type": "stream",
     "text": [
      "             precision    recall  f1-score   support\n",
      "\n",
      "        acc       0.63      0.22      0.33        77\n",
      "       good       0.67      0.14      0.24        14\n",
      "      unacc       0.85      0.88      0.87       242\n",
      "      vgood       0.19      1.00      0.32        13\n",
      "\n",
      "avg / total       0.77      0.71      0.70       346\n",
      "\n"
     ]
    }
   ],
   "source": [
    "from sklearn.metrics import classification_report\n",
    "print(classification_report(y_test, y_pred_nb))"
   ]
  },
  {
   "cell_type": "markdown",
   "metadata": {},
   "source": [
    "Let's move to logistic regression"
   ]
  },
  {
   "cell_type": "code",
   "execution_count": 64,
   "metadata": {},
   "outputs": [],
   "source": [
    "#For logistic regression, instead of converting the features to numerical, we will use onehotencoding \n",
    "\n",
    "lb = LabelEncoder()\n",
    "onehot = OneHotEncoder()\n",
    "df_y = df.iloc[:,[6]]\n",
    "df_x = df.iloc[:,[0,1,2,3,4]]\n",
    "\n",
    "for col in df_x.columns:\n",
    "    df_x[col] = lb.fit_transform(df_x[col])\n",
    "\n",
    "df_x = onehot.fit_transform(df_x).toarray()\n",
    "\n",
    "x_train, x_test, y_train, y_test = train_test_split(df_x,df_y,test_size = 0.2, random_state = 42, stratify = df_y)"
   ]
  },
  {
   "cell_type": "code",
   "execution_count": 69,
   "metadata": {},
   "outputs": [],
   "source": [
    "# Given that the dependent variable is ordered data, it is most suited for ordered logit. However, I couldn't find any \n",
    "# package for ordered logit on sikitlearn, so I will be using multiclass logit instead\n",
    "clf1 = linear_model.LogisticRegression(\n",
    "    solver='lbfgs',\n",
    "    multi_class='multinomial')\n",
    "y_pred_reg = clf1.fit(x_train, y_train).predict(x_test)"
   ]
  },
  {
   "cell_type": "code",
   "execution_count": 70,
   "metadata": {
    "scrolled": true
   },
   "outputs": [
    {
     "name": "stdout",
     "output_type": "stream",
     "text": [
      "             precision    recall  f1-score   support\n",
      "\n",
      "        acc       0.39      0.29      0.33        77\n",
      "       good       0.42      0.36      0.38        14\n",
      "      unacc       0.79      0.89      0.84       242\n",
      "      vgood       0.40      0.15      0.22        13\n",
      "\n",
      "avg / total       0.67      0.71      0.68       346\n",
      "\n"
     ]
    }
   ],
   "source": [
    "print(classification_report(y_test, y_pred_reg))"
   ]
  },
  {
   "cell_type": "markdown",
   "metadata": {},
   "source": [
    "Let's move to KNN"
   ]
  },
  {
   "cell_type": "markdown",
   "metadata": {},
   "source": [
    "# Again let's use the same dataset as used before ie., the one hot encoded one"
   ]
  },
  {
   "cell_type": "code",
   "execution_count": 71,
   "metadata": {},
   "outputs": [
    {
     "data": {
      "text/plain": [
       "{'n_neighbors': 8, 'weights': 'uniform'}"
      ]
     },
     "execution_count": 71,
     "metadata": {},
     "output_type": "execute_result"
    }
   ],
   "source": [
    "# For Knn, let's use grid search to tune the two hyperparameters: k and weight options using the weigthed average scoring\n",
    "\n",
    "k_range = list(range(1,31))\n",
    "weight_options = [\"uniform\", \"distance\"]\n",
    "\n",
    "param_grid = dict(n_neighbors = k_range, weights = weight_options)\n",
    "knn = KNeighborsClassifier()\n",
    "\n",
    "grid_knn = GridSearchCV(knn, param_grid, cv = 4, scoring = 'f1_weighted')\n",
    "\n",
    "grid_knn.fit(x_train,y_train)\n",
    "grid_knn.best_params_"
   ]
  },
  {
   "cell_type": "code",
   "execution_count": 72,
   "metadata": {},
   "outputs": [
    {
     "data": {
      "image/png": "[encoded data removed]",
      "text/plain": [
       "<Figure size 432x288 with 1 Axes>"
      ]
     },
     "metadata": {},
     "output_type": "display_data"
    }
   ],
   "source": [
    "plot_results(grid_knn ,par_1 = \"n_neighbors\",par_2 = \"weights\", title = \"Tuning of Hyperparameters for Knn\", y_lab= \"F1_weighted_score\")"
   ]
  },
  {
   "cell_type": "code",
   "execution_count": 73,
   "metadata": {},
   "outputs": [],
   "source": [
    "# Let's apply the model with our tuned hyperparamters\n",
    "neigh = KNeighborsClassifier(n_neighbors=7)\n",
    "y_pred_knn = neigh.fit(x_train, y_train).predict(x_test)"
   ]
  },
  {
   "cell_type": "code",
   "execution_count": 74,
   "metadata": {},
   "outputs": [
    {
     "name": "stdout",
     "output_type": "stream",
     "text": [
      "             precision    recall  f1-score   support\n",
      "\n",
      "        acc       0.40      0.31      0.35        77\n",
      "       good       0.42      0.36      0.38        14\n",
      "      unacc       0.76      0.84      0.80       242\n",
      "      vgood       0.17      0.08      0.11        13\n",
      "\n",
      "avg / total       0.64      0.67      0.65       346\n",
      "\n"
     ]
    }
   ],
   "source": [
    "print(classification_report(y_test, y_pred_knn))"
   ]
  },
  {
   "cell_type": "markdown",
   "metadata": {},
   "source": [
    "# Let's move to decision tree"
   ]
  },
  {
   "cell_type": "code",
   "execution_count": 75,
   "metadata": {},
   "outputs": [],
   "source": [
    "# Using the same data set"
   ]
  },
  {
   "cell_type": "code",
   "execution_count": 77,
   "metadata": {},
   "outputs": [
    {
     "data": {
      "text/plain": [
       "{'max_depth': 10, 'min_samples_leaf': 10}"
      ]
     },
     "execution_count": 77,
     "metadata": {},
     "output_type": "execute_result"
    }
   ],
   "source": [
    "# Gridsearch to determine tune the hyperparameters: max_depth and min_samples_leaf\n",
    "depth={\"max_depth\":[1,5,10,15,20,25,30],\n",
    "      \"min_samples_leaf\" : [10,20,30]}      \n",
    "\n",
    "DTC=DecisionTreeClassifier()\n",
    "\n",
    "grid_dt=GridSearchCV(DTC,param_grid=depth , cv=4, scoring= 'f1_weighted')\n",
    "grid_dt.fit(x_train,y_train)\n",
    "dt_result =pd.DataFrame(grid_dt.cv_results_)\n",
    "grid_dt.best_params_"
   ]
  },
  {
   "cell_type": "code",
   "execution_count": 78,
   "metadata": {},
   "outputs": [],
   "source": [
    "#Let's apply the model with the best hyperparameters\n",
    "\n",
    "final_dt = DecisionTreeClassifier(**grid_dt.best_params_)\n",
    "y_pred_dt = final_dt.fit(x_train, y_train).predict(x_test)"
   ]
  },
  {
   "cell_type": "code",
   "execution_count": 79,
   "metadata": {},
   "outputs": [
    {
     "name": "stdout",
     "output_type": "stream",
     "text": [
      "             precision    recall  f1-score   support\n",
      "\n",
      "        acc       0.49      0.62      0.55        77\n",
      "       good       0.13      0.14      0.14        14\n",
      "      unacc       0.82      0.79      0.80       242\n",
      "      vgood       0.00      0.00      0.00        13\n",
      "\n",
      "avg / total       0.69      0.70      0.69       346\n",
      "\n"
     ]
    }
   ],
   "source": [
    "print(classification_report(y_test, y_pred_dt))"
   ]
  },
  {
   "cell_type": "markdown",
   "metadata": {},
   "source": [
    "# Finally, let's use SVM"
   ]
  },
  {
   "cell_type": "code",
   "execution_count": 80,
   "metadata": {},
   "outputs": [],
   "source": [
    "# Using the same data set as before"
   ]
  },
  {
   "cell_type": "code",
   "execution_count": 83,
   "metadata": {},
   "outputs": [
    {
     "data": {
      "text/plain": [
       "{'C': 1000, 'tol': 0.01}"
      ]
     },
     "execution_count": 83,
     "metadata": {},
     "output_type": "execute_result"
    }
   ],
   "source": [
    "# grid search to determine the best combination of hyperparameters: C and tol\n",
    "# As logistic regression seems to be performing weel, it looks like the data \n",
    "# is linearly separable, so let's use the linear kernel\n",
    "c_values = [0.01,0.1,1,10,100,1000]\n",
    "tol_values = [0.0001,0.001,0.01,0.1]\n",
    "\n",
    "param_grid = dict(C = c_values, tol = tol_values)\n",
    "\n",
    "SVC_mod = svm.SVC(kernel = 'linear')\n",
    "grid_svc = GridSearchCV(SVC_mod, param_grid, cv = 4, scoring = 'f1_weighted')\n",
    "grid_svc.fit(x_train,y_train)\n",
    "grid_svc.best_params_"
   ]
  },
  {
   "cell_type": "code",
   "execution_count": 84,
   "metadata": {},
   "outputs": [],
   "source": [
    "# Finally, let's apply svm with these hyperparameters\n",
    "final_svc = svm.SVC(**grid_svc.best_params_)\n",
    "y_pred_svc = final_svc.fit(x_train, y_train).predict(x_test)"
   ]
  },
  {
   "cell_type": "code",
   "execution_count": 85,
   "metadata": {},
   "outputs": [
    {
     "name": "stdout",
     "output_type": "stream",
     "text": [
      "             precision    recall  f1-score   support\n",
      "\n",
      "        acc       0.47      0.51      0.49        77\n",
      "       good       0.00      0.00      0.00        14\n",
      "      unacc       0.79      0.79      0.79       242\n",
      "      vgood       0.00      0.00      0.00        13\n",
      "\n",
      "avg / total       0.66      0.66      0.66       346\n",
      "\n"
     ]
    }
   ],
   "source": [
    "print(classification_report(y_test, y_pred_svc))"
   ]
  },
  {
   "cell_type": "markdown",
   "metadata": {},
   "source": [
    "Out of our 5 models, and based on the weighted average f1-score, Naive Bayes is the best model.\n",
    "Regarding per-class performance, all the models share the fact that they perform better for the class 'unacc', which is\n",
    "expected as that class represents 70% of the entire records of the dataset.\n",
    "However, the final model that I'd suggest uis to use the decision tree as it doesn't assume anything about the data (non-parametric method)"
   ]
  },
  {
   "cell_type": "code",
   "execution_count": 85,
   "metadata": {},
   "outputs": [
    {
     "data": {
      "text/plain": [
       "unacc    1210\n",
       "acc       384\n",
       "good       69\n",
       "vgood      65\n",
       "Name: class, dtype: int64"
      ]
     },
     "execution_count": 85,
     "metadata": {},
     "output_type": "execute_result"
    }
   ],
   "source": [
    "df['class'].value_counts()"
   ]
  }
 ],
 "metadata": {
  "kernelspec": {
   "display_name": "Python 3",
   "language": "python",
   "name": "python3"
  },
  "language_info": {
   "codemirror_mode": {
    "name": "ipython",
    "version": 3
   },
   "file_extension": ".py",
   "mimetype": "text/x-python",
   "name": "python",
   "nbconvert_exporter": "python",
   "pygments_lexer": "ipython3",
   "version": "3.6.5"
  }
 },
 "nbformat": 4,
 "nbformat_minor": 2
}
